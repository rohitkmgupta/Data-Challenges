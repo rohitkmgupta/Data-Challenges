{
 "cells": [
  {
   "cell_type": "code",
   "execution_count": 2,
   "metadata": {},
   "outputs": [],
   "source": [
    "import pandas as pd\n",
    "from sklearn.model_selection import train_test_split"
   ]
  },
  {
   "cell_type": "code",
   "execution_count": 3,
   "metadata": {},
   "outputs": [],
   "source": [
    "df = pd.read_csv('Bankruptcy data set_Global from Compustat.csv - Bankruptcy data set_Global from Compustat.csv.csv')"
   ]
  },
  {
   "cell_type": "code",
   "execution_count": 4,
   "metadata": {},
   "outputs": [
    {
     "data": {
      "text/html": [
       "<div>\n",
       "<style scoped>\n",
       "    .dataframe tbody tr th:only-of-type {\n",
       "        vertical-align: middle;\n",
       "    }\n",
       "\n",
       "    .dataframe tbody tr th {\n",
       "        vertical-align: top;\n",
       "    }\n",
       "\n",
       "    .dataframe thead th {\n",
       "        text-align: right;\n",
       "    }\n",
       "</style>\n",
       "<table border=\"1\" class=\"dataframe\">\n",
       "  <thead>\n",
       "    <tr style=\"text-align: right;\">\n",
       "      <th></th>\n",
       "      <th>Country</th>\n",
       "      <th>V1</th>\n",
       "      <th>V2</th>\n",
       "      <th>V3</th>\n",
       "      <th>V4</th>\n",
       "      <th>V5</th>\n",
       "      <th>V6</th>\n",
       "      <th>V7</th>\n",
       "      <th>V8</th>\n",
       "      <th>V9</th>\n",
       "      <th>V10</th>\n",
       "      <th>V11</th>\n",
       "      <th>Dependent Variable (Bankruptcy)</th>\n",
       "    </tr>\n",
       "  </thead>\n",
       "  <tbody>\n",
       "    <tr>\n",
       "      <th>0</th>\n",
       "      <td>Japan</td>\n",
       "      <td>4500.0</td>\n",
       "      <td>133000.0</td>\n",
       "      <td>17000.0</td>\n",
       "      <td>15000.0</td>\n",
       "      <td>4300.0</td>\n",
       "      <td>118700.0</td>\n",
       "      <td>101100.0</td>\n",
       "      <td>14600.0</td>\n",
       "      <td>68500.0</td>\n",
       "      <td>13500.0</td>\n",
       "      <td>15</td>\n",
       "      <td>0</td>\n",
       "    </tr>\n",
       "    <tr>\n",
       "      <th>1</th>\n",
       "      <td>Japan</td>\n",
       "      <td>2200.0</td>\n",
       "      <td>118900.0</td>\n",
       "      <td>9700.0</td>\n",
       "      <td>5000.0</td>\n",
       "      <td>4500.0</td>\n",
       "      <td>75600.0</td>\n",
       "      <td>88200.0</td>\n",
       "      <td>32800.0</td>\n",
       "      <td>60900.0</td>\n",
       "      <td>6400.0</td>\n",
       "      <td>15</td>\n",
       "      <td>0</td>\n",
       "    </tr>\n",
       "    <tr>\n",
       "      <th>2</th>\n",
       "      <td>Japan</td>\n",
       "      <td>6800.0</td>\n",
       "      <td>219400.0</td>\n",
       "      <td>44100.0</td>\n",
       "      <td>85700.0</td>\n",
       "      <td>11100.0</td>\n",
       "      <td>116200.0</td>\n",
       "      <td>174000.0</td>\n",
       "      <td>9400.0</td>\n",
       "      <td>81100.0</td>\n",
       "      <td>11200.0</td>\n",
       "      <td>20</td>\n",
       "      <td>0</td>\n",
       "    </tr>\n",
       "    <tr>\n",
       "      <th>3</th>\n",
       "      <td>Japan</td>\n",
       "      <td>3000.0</td>\n",
       "      <td>223200.0</td>\n",
       "      <td>35800.0</td>\n",
       "      <td>41800.0</td>\n",
       "      <td>6000.0</td>\n",
       "      <td>104000.0</td>\n",
       "      <td>206000.0</td>\n",
       "      <td>1600.0</td>\n",
       "      <td>64800.0</td>\n",
       "      <td>5800.0</td>\n",
       "      <td>20</td>\n",
       "      <td>0</td>\n",
       "    </tr>\n",
       "    <tr>\n",
       "      <th>4</th>\n",
       "      <td>Japan</td>\n",
       "      <td>3500.0</td>\n",
       "      <td>196500.0</td>\n",
       "      <td>32800.0</td>\n",
       "      <td>43700.0</td>\n",
       "      <td>6000.0</td>\n",
       "      <td>88700.0</td>\n",
       "      <td>150400.0</td>\n",
       "      <td>200.0</td>\n",
       "      <td>66800.0</td>\n",
       "      <td>6400.0</td>\n",
       "      <td>20</td>\n",
       "      <td>0</td>\n",
       "    </tr>\n",
       "  </tbody>\n",
       "</table>\n",
       "</div>"
      ],
      "text/plain": [
       "  Country      V1        V2       V3       V4       V5        V6        V7  \\\n",
       "0   Japan  4500.0  133000.0  17000.0  15000.0   4300.0  118700.0  101100.0   \n",
       "1   Japan  2200.0  118900.0   9700.0   5000.0   4500.0   75600.0   88200.0   \n",
       "2   Japan  6800.0  219400.0  44100.0  85700.0  11100.0  116200.0  174000.0   \n",
       "3   Japan  3000.0  223200.0  35800.0  41800.0   6000.0  104000.0  206000.0   \n",
       "4   Japan  3500.0  196500.0  32800.0  43700.0   6000.0   88700.0  150400.0   \n",
       "\n",
       "        V8       V9      V10  V11  Dependent Variable (Bankruptcy)  \n",
       "0  14600.0  68500.0  13500.0   15                                0  \n",
       "1  32800.0  60900.0   6400.0   15                                0  \n",
       "2   9400.0  81100.0  11200.0   20                                0  \n",
       "3   1600.0  64800.0   5800.0   20                                0  \n",
       "4    200.0  66800.0   6400.0   20                                0  "
      ]
     },
     "execution_count": 4,
     "metadata": {},
     "output_type": "execute_result"
    }
   ],
   "source": [
    "df.head()"
   ]
  },
  {
   "cell_type": "code",
   "execution_count": 5,
   "metadata": {},
   "outputs": [
    {
     "data": {
      "text/plain": [
       "Index(['Country', 'V1', 'V2', 'V3', 'V4', 'V5', 'V6', 'V7', 'V8', 'V9', 'V10',\n",
       "       'V11', 'Dependent Variable (Bankruptcy)'],\n",
       "      dtype='object')"
      ]
     },
     "execution_count": 5,
     "metadata": {},
     "output_type": "execute_result"
    }
   ],
   "source": [
    "df.columns"
   ]
  },
  {
   "cell_type": "code",
   "execution_count": 6,
   "metadata": {},
   "outputs": [
    {
     "data": {
      "text/plain": [
       "(468, 13)"
      ]
     },
     "execution_count": 6,
     "metadata": {},
     "output_type": "execute_result"
    }
   ],
   "source": [
    "df.shape"
   ]
  },
  {
   "cell_type": "code",
   "execution_count": 7,
   "metadata": {},
   "outputs": [],
   "source": [
    "df_train = df.iloc[:374, :]\n",
    "df_test  = df.iloc[374:, :]"
   ]
  },
  {
   "cell_type": "code",
   "execution_count": 8,
   "metadata": {},
   "outputs": [],
   "source": [
    "df_train.to_csv('Train.csv')"
   ]
  },
  {
   "cell_type": "code",
   "execution_count": 9,
   "metadata": {},
   "outputs": [],
   "source": [
    "df_test.to_csv('Test.csv')"
   ]
  },
  {
   "cell_type": "code",
   "execution_count": null,
   "metadata": {},
   "outputs": [],
   "source": []
  }
 ],
 "metadata": {
  "kernelspec": {
   "display_name": "Python 3",
   "language": "python",
   "name": "python3"
  },
  "language_info": {
   "codemirror_mode": {
    "name": "ipython",
    "version": 3
   },
   "file_extension": ".py",
   "mimetype": "text/x-python",
   "name": "python",
   "nbconvert_exporter": "python",
   "pygments_lexer": "ipython3",
   "version": "3.6.5"
  }
 },
 "nbformat": 4,
 "nbformat_minor": 2
}
