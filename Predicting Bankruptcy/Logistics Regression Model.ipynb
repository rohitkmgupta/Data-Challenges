{
 "cells": [
  {
   "cell_type": "code",
   "execution_count": 1,
   "metadata": {},
   "outputs": [],
   "source": [
    "import numpy as np               # For linear algebra\n",
    "import pandas as pd              # For data manipulation\n",
    "import matplotlib.pyplot as plt  # For 2D visualization\n",
    "import seaborn as sns            \n",
    "import missingno as mn           # For visualizing missing values.\n",
    "from scipy import stats          # For statistics"
   ]
  },
  {
   "cell_type": "code",
   "execution_count": 2,
   "metadata": {},
   "outputs": [],
   "source": [
    "df_train = pd.read_csv('train_after_mvi.csv')"
   ]
  },
  {
   "cell_type": "code",
   "execution_count": 3,
   "metadata": {},
   "outputs": [],
   "source": [
    "df_test = pd.read_csv('test_after_mvi.csv')"
   ]
  },
  {
   "cell_type": "code",
   "execution_count": 4,
   "metadata": {},
   "outputs": [
    {
     "data": {
      "text/html": [
       "<div>\n",
       "<style scoped>\n",
       "    .dataframe tbody tr th:only-of-type {\n",
       "        vertical-align: middle;\n",
       "    }\n",
       "\n",
       "    .dataframe tbody tr th {\n",
       "        vertical-align: top;\n",
       "    }\n",
       "\n",
       "    .dataframe thead th {\n",
       "        text-align: right;\n",
       "    }\n",
       "</style>\n",
       "<table border=\"1\" class=\"dataframe\">\n",
       "  <thead>\n",
       "    <tr style=\"text-align: right;\">\n",
       "      <th></th>\n",
       "      <th>Country</th>\n",
       "      <th>V1</th>\n",
       "      <th>V2</th>\n",
       "      <th>V3</th>\n",
       "      <th>V4</th>\n",
       "      <th>V5</th>\n",
       "      <th>V6</th>\n",
       "      <th>V7</th>\n",
       "      <th>V8</th>\n",
       "      <th>V9</th>\n",
       "      <th>V10</th>\n",
       "      <th>V11</th>\n",
       "      <th>Dependent Variable (Bankruptcy)</th>\n",
       "    </tr>\n",
       "  </thead>\n",
       "  <tbody>\n",
       "    <tr>\n",
       "      <th>0</th>\n",
       "      <td>Japan</td>\n",
       "      <td>4500.0</td>\n",
       "      <td>133000.0</td>\n",
       "      <td>17000.0</td>\n",
       "      <td>15000.0</td>\n",
       "      <td>4300.0</td>\n",
       "      <td>118700.0</td>\n",
       "      <td>101100.0</td>\n",
       "      <td>14600.0</td>\n",
       "      <td>68500.0</td>\n",
       "      <td>13500.0</td>\n",
       "      <td>15</td>\n",
       "      <td>0</td>\n",
       "    </tr>\n",
       "    <tr>\n",
       "      <th>1</th>\n",
       "      <td>Japan</td>\n",
       "      <td>2200.0</td>\n",
       "      <td>118900.0</td>\n",
       "      <td>9700.0</td>\n",
       "      <td>5000.0</td>\n",
       "      <td>4500.0</td>\n",
       "      <td>75600.0</td>\n",
       "      <td>88200.0</td>\n",
       "      <td>32800.0</td>\n",
       "      <td>60900.0</td>\n",
       "      <td>6400.0</td>\n",
       "      <td>15</td>\n",
       "      <td>0</td>\n",
       "    </tr>\n",
       "    <tr>\n",
       "      <th>2</th>\n",
       "      <td>Japan</td>\n",
       "      <td>6800.0</td>\n",
       "      <td>219400.0</td>\n",
       "      <td>44100.0</td>\n",
       "      <td>85700.0</td>\n",
       "      <td>11100.0</td>\n",
       "      <td>116200.0</td>\n",
       "      <td>174000.0</td>\n",
       "      <td>9400.0</td>\n",
       "      <td>81100.0</td>\n",
       "      <td>11200.0</td>\n",
       "      <td>20</td>\n",
       "      <td>0</td>\n",
       "    </tr>\n",
       "    <tr>\n",
       "      <th>3</th>\n",
       "      <td>Japan</td>\n",
       "      <td>3000.0</td>\n",
       "      <td>223200.0</td>\n",
       "      <td>35800.0</td>\n",
       "      <td>41800.0</td>\n",
       "      <td>6000.0</td>\n",
       "      <td>104000.0</td>\n",
       "      <td>206000.0</td>\n",
       "      <td>1600.0</td>\n",
       "      <td>64800.0</td>\n",
       "      <td>5800.0</td>\n",
       "      <td>20</td>\n",
       "      <td>0</td>\n",
       "    </tr>\n",
       "    <tr>\n",
       "      <th>4</th>\n",
       "      <td>Japan</td>\n",
       "      <td>3500.0</td>\n",
       "      <td>196500.0</td>\n",
       "      <td>32800.0</td>\n",
       "      <td>43700.0</td>\n",
       "      <td>6000.0</td>\n",
       "      <td>88700.0</td>\n",
       "      <td>150400.0</td>\n",
       "      <td>200.0</td>\n",
       "      <td>66800.0</td>\n",
       "      <td>6400.0</td>\n",
       "      <td>20</td>\n",
       "      <td>0</td>\n",
       "    </tr>\n",
       "  </tbody>\n",
       "</table>\n",
       "</div>"
      ],
      "text/plain": [
       "  Country      V1        V2       V3       V4       V5        V6        V7  \\\n",
       "0   Japan  4500.0  133000.0  17000.0  15000.0   4300.0  118700.0  101100.0   \n",
       "1   Japan  2200.0  118900.0   9700.0   5000.0   4500.0   75600.0   88200.0   \n",
       "2   Japan  6800.0  219400.0  44100.0  85700.0  11100.0  116200.0  174000.0   \n",
       "3   Japan  3000.0  223200.0  35800.0  41800.0   6000.0  104000.0  206000.0   \n",
       "4   Japan  3500.0  196500.0  32800.0  43700.0   6000.0   88700.0  150400.0   \n",
       "\n",
       "        V8       V9      V10  V11  Dependent Variable (Bankruptcy)  \n",
       "0  14600.0  68500.0  13500.0   15                                0  \n",
       "1  32800.0  60900.0   6400.0   15                                0  \n",
       "2   9400.0  81100.0  11200.0   20                                0  \n",
       "3   1600.0  64800.0   5800.0   20                                0  \n",
       "4    200.0  66800.0   6400.0   20                                0  "
      ]
     },
     "execution_count": 4,
     "metadata": {},
     "output_type": "execute_result"
    }
   ],
   "source": [
    "df_train.head(5)"
   ]
  },
  {
   "cell_type": "code",
   "execution_count": 5,
   "metadata": {},
   "outputs": [
    {
     "data": {
      "text/html": [
       "<div>\n",
       "<style scoped>\n",
       "    .dataframe tbody tr th:only-of-type {\n",
       "        vertical-align: middle;\n",
       "    }\n",
       "\n",
       "    .dataframe tbody tr th {\n",
       "        vertical-align: top;\n",
       "    }\n",
       "\n",
       "    .dataframe thead th {\n",
       "        text-align: right;\n",
       "    }\n",
       "</style>\n",
       "<table border=\"1\" class=\"dataframe\">\n",
       "  <thead>\n",
       "    <tr style=\"text-align: right;\">\n",
       "      <th></th>\n",
       "      <th>Country</th>\n",
       "      <th>V1</th>\n",
       "      <th>V2</th>\n",
       "      <th>V3</th>\n",
       "      <th>V4</th>\n",
       "      <th>V5</th>\n",
       "      <th>V6</th>\n",
       "      <th>V7</th>\n",
       "      <th>V8</th>\n",
       "      <th>V9</th>\n",
       "      <th>V10</th>\n",
       "      <th>V11</th>\n",
       "      <th>Dependent Variable (Bankruptcy)</th>\n",
       "    </tr>\n",
       "  </thead>\n",
       "  <tbody>\n",
       "    <tr>\n",
       "      <th>0</th>\n",
       "      <td>France</td>\n",
       "      <td>-9200.0</td>\n",
       "      <td>106800.0</td>\n",
       "      <td>-9500.0</td>\n",
       "      <td>-20000.0</td>\n",
       "      <td>-3600.0</td>\n",
       "      <td>95100.0</td>\n",
       "      <td>18500.0</td>\n",
       "      <td>45300.0</td>\n",
       "      <td>66700.0</td>\n",
       "      <td>57500.0</td>\n",
       "      <td>20</td>\n",
       "      <td>1</td>\n",
       "    </tr>\n",
       "    <tr>\n",
       "      <th>1</th>\n",
       "      <td>France</td>\n",
       "      <td>-46100.0</td>\n",
       "      <td>87600.0</td>\n",
       "      <td>-74700.0</td>\n",
       "      <td>-150100.0</td>\n",
       "      <td>-22400.0</td>\n",
       "      <td>90600.0</td>\n",
       "      <td>31700.0</td>\n",
       "      <td>73000.0</td>\n",
       "      <td>40000.0</td>\n",
       "      <td>276300.0</td>\n",
       "      <td>25</td>\n",
       "      <td>1</td>\n",
       "    </tr>\n",
       "    <tr>\n",
       "      <th>2</th>\n",
       "      <td>France</td>\n",
       "      <td>-20700.0</td>\n",
       "      <td>34900.0</td>\n",
       "      <td>1500.0</td>\n",
       "      <td>-20700.0</td>\n",
       "      <td>-17300.0</td>\n",
       "      <td>59800.0</td>\n",
       "      <td>74400.0</td>\n",
       "      <td>21300.0</td>\n",
       "      <td>57200.0</td>\n",
       "      <td>-58700.0</td>\n",
       "      <td>45</td>\n",
       "      <td>1</td>\n",
       "    </tr>\n",
       "    <tr>\n",
       "      <th>3</th>\n",
       "      <td>France</td>\n",
       "      <td>4700.0</td>\n",
       "      <td>247000.0</td>\n",
       "      <td>48100.0</td>\n",
       "      <td>4700.0</td>\n",
       "      <td>10100.0</td>\n",
       "      <td>82000.0</td>\n",
       "      <td>206300.0</td>\n",
       "      <td>0.0</td>\n",
       "      <td>80800.0</td>\n",
       "      <td>7500.0</td>\n",
       "      <td>45</td>\n",
       "      <td>0</td>\n",
       "    </tr>\n",
       "    <tr>\n",
       "      <th>4</th>\n",
       "      <td>France</td>\n",
       "      <td>7400.0</td>\n",
       "      <td>192400.0</td>\n",
       "      <td>32100.0</td>\n",
       "      <td>7400.0</td>\n",
       "      <td>9400.0</td>\n",
       "      <td>116200.0</td>\n",
       "      <td>183600.0</td>\n",
       "      <td>16600.0</td>\n",
       "      <td>66800.0</td>\n",
       "      <td>16300.0</td>\n",
       "      <td>20</td>\n",
       "      <td>0</td>\n",
       "    </tr>\n",
       "  </tbody>\n",
       "</table>\n",
       "</div>"
      ],
      "text/plain": [
       "  Country       V1        V2       V3        V4       V5        V6        V7  \\\n",
       "0  France  -9200.0  106800.0  -9500.0  -20000.0  -3600.0   95100.0   18500.0   \n",
       "1  France -46100.0   87600.0 -74700.0 -150100.0 -22400.0   90600.0   31700.0   \n",
       "2  France -20700.0   34900.0   1500.0  -20700.0 -17300.0   59800.0   74400.0   \n",
       "3  France   4700.0  247000.0  48100.0    4700.0  10100.0   82000.0  206300.0   \n",
       "4  France   7400.0  192400.0  32100.0    7400.0   9400.0  116200.0  183600.0   \n",
       "\n",
       "        V8       V9       V10  V11  Dependent Variable (Bankruptcy)  \n",
       "0  45300.0  66700.0   57500.0   20                                1  \n",
       "1  73000.0  40000.0  276300.0   25                                1  \n",
       "2  21300.0  57200.0  -58700.0   45                                1  \n",
       "3      0.0  80800.0    7500.0   45                                0  \n",
       "4  16600.0  66800.0   16300.0   20                                0  "
      ]
     },
     "execution_count": 5,
     "metadata": {},
     "output_type": "execute_result"
    }
   ],
   "source": [
    "df_test.head(5)"
   ]
  },
  {
   "cell_type": "code",
   "execution_count": 6,
   "metadata": {},
   "outputs": [
    {
     "data": {
      "text/plain": [
       "Country                             object\n",
       "V1                                 float64\n",
       "V2                                 float64\n",
       "V3                                 float64\n",
       "V4                                 float64\n",
       "V5                                 float64\n",
       "V6                                 float64\n",
       "V7                                 float64\n",
       "V8                                 float64\n",
       "V9                                 float64\n",
       "V10                                float64\n",
       "V11                                  int64\n",
       "Dependent Variable (Bankruptcy)      int64\n",
       "dtype: object"
      ]
     },
     "execution_count": 6,
     "metadata": {},
     "output_type": "execute_result"
    }
   ],
   "source": [
    "df_train.dtypes"
   ]
  },
  {
   "cell_type": "code",
   "execution_count": 7,
   "metadata": {},
   "outputs": [],
   "source": [
    "df_train['Country'] =df_train['Country'].astype('category')\n",
    "df_train['V11'] =df_train['V11'].astype('category')"
   ]
  },
  {
   "cell_type": "code",
   "execution_count": 8,
   "metadata": {},
   "outputs": [],
   "source": [
    "df_test['Country'] =df_test['Country'].astype('category')\n",
    "df_test['V11'] =df_test['V11'].astype('category')"
   ]
  },
  {
   "cell_type": "code",
   "execution_count": 9,
   "metadata": {},
   "outputs": [
    {
     "data": {
      "text/plain": [
       "Country                            category\n",
       "V1                                  float64\n",
       "V2                                  float64\n",
       "V3                                  float64\n",
       "V4                                  float64\n",
       "V5                                  float64\n",
       "V6                                  float64\n",
       "V7                                  float64\n",
       "V8                                  float64\n",
       "V9                                  float64\n",
       "V10                                 float64\n",
       "V11                                category\n",
       "Dependent Variable (Bankruptcy)       int64\n",
       "dtype: object"
      ]
     },
     "execution_count": 9,
     "metadata": {},
     "output_type": "execute_result"
    }
   ],
   "source": [
    "df_test.dtypes"
   ]
  },
  {
   "cell_type": "code",
   "execution_count": 10,
   "metadata": {},
   "outputs": [],
   "source": [
    "#Dropping Countries column as our model is based on financial factors related to the company. \n",
    "df_train = df_train.drop(columns=['Country'],axis=1)\n",
    "df_test = df_test.drop(columns=['Country'],axis=1)"
   ]
  },
  {
   "cell_type": "code",
   "execution_count": 11,
   "metadata": {},
   "outputs": [],
   "source": [
    "##Get_Dummies : Convert categorical variable into dummy/indicator variables\n",
    "df_train = pd.get_dummies(df_train)\n",
    "df_test = pd.get_dummies(df_test)"
   ]
  },
  {
   "cell_type": "code",
   "execution_count": 12,
   "metadata": {},
   "outputs": [],
   "source": [
    "#Renaming the Dependent variable bankruptcy column\n",
    "df_train.rename(index=str,columns={'Dependent Variable (Bankruptcy)':'Bankrupt'},inplace=True)\n",
    "df_test.rename(index=str,columns={'Dependent Variable (Bankruptcy)':'Bankrupt'},inplace=True)"
   ]
  },
  {
   "cell_type": "code",
   "execution_count": 13,
   "metadata": {},
   "outputs": [],
   "source": [
    "#Dropping Bankrupt from \n",
    "X_test = df_test.drop(columns = ['Bankrupt'], axis = 1)\n",
    "y_test = df_test['Bankrupt']"
   ]
  },
  {
   "cell_type": "code",
   "execution_count": 14,
   "metadata": {},
   "outputs": [],
   "source": [
    "#Dividing X_train and y_train variables\n",
    "X_train = df_train.drop(columns = ['Bankrupt'], axis = 1) \n",
    "y_train = df_train['Bankrupt'] "
   ]
  },
  {
   "cell_type": "code",
   "execution_count": 15,
   "metadata": {},
   "outputs": [
    {
     "data": {
      "text/plain": [
       "Index(['V1', 'V2', 'V3', 'V4', 'V5', 'V6', 'V7', 'V8', 'V9', 'V10', 'V11_10',\n",
       "       'V11_15', 'V11_20', 'V11_25', 'V11_30', 'V11_35', 'V11_45', 'V11_50',\n",
       "       'V11_55'],\n",
       "      dtype='object')"
      ]
     },
     "execution_count": 15,
     "metadata": {},
     "output_type": "execute_result"
    }
   ],
   "source": [
    "X_test.columns"
   ]
  },
  {
   "cell_type": "code",
   "execution_count": 16,
   "metadata": {},
   "outputs": [
    {
     "data": {
      "text/plain": [
       "Index(['V1', 'V2', 'V3', 'V4', 'V5', 'V6', 'V7', 'V8', 'V9', 'V10', 'V11_10',\n",
       "       'V11_15', 'V11_20', 'V11_25', 'V11_30', 'V11_35', 'V11_45', 'V11_50',\n",
       "       'V11_55'],\n",
       "      dtype='object')"
      ]
     },
     "execution_count": 16,
     "metadata": {},
     "output_type": "execute_result"
    }
   ],
   "source": [
    "X_test.columns"
   ]
  },
  {
   "cell_type": "code",
   "execution_count": 17,
   "metadata": {},
   "outputs": [
    {
     "data": {
      "text/plain": [
       "Index(['V1', 'V2', 'V3', 'V4', 'V5', 'V6', 'V7', 'V8', 'V9', 'V10', 'V11_10',\n",
       "       'V11_15', 'V11_20', 'V11_25', 'V11_30', 'V11_35', 'V11_45', 'V11_50',\n",
       "       'V11_55'],\n",
       "      dtype='object')"
      ]
     },
     "execution_count": 17,
     "metadata": {},
     "output_type": "execute_result"
    }
   ],
   "source": [
    "X_train.columns"
   ]
  },
  {
   "cell_type": "code",
   "execution_count": 18,
   "metadata": {},
   "outputs": [],
   "source": [
    "## Running Models \n",
    "## Logistics Regression\n",
    "from sklearn.linear_model import LogisticRegression\n",
    "lr = LogisticRegression()\n",
    "lr.fit(X_train, y_train)\n",
    "train_accuracy = lr.score(X_train, y_train)\n",
    "train_accuracy = np.round(train_accuracy*100, 2)"
   ]
  },
  {
   "cell_type": "code",
   "execution_count": 19,
   "metadata": {},
   "outputs": [
    {
     "data": {
      "text/plain": [
       "81.55"
      ]
     },
     "execution_count": 19,
     "metadata": {},
     "output_type": "execute_result"
    }
   ],
   "source": [
    "train_accuracy"
   ]
  },
  {
   "cell_type": "markdown",
   "metadata": {},
   "source": [
    "Train accuracy of a model is not enough to tell if a model can be able to generalize the unseen data or not. Because training data is something our model has been trained with, i.e., data our model has already seen it. We all know that, the purpose of building a machine learning model is to generalize the unseen data, i.e., data our model has not yet seen. Hence we can't use training accuracy for our model evaluation rather we must know how our model will perform on the data our model is yet to see."
   ]
  },
  {
   "cell_type": "code",
   "execution_count": 20,
   "metadata": {},
   "outputs": [],
   "source": [
    "y_pred = lr.predict(X_test)"
   ]
  },
  {
   "cell_type": "code",
   "execution_count": 21,
   "metadata": {},
   "outputs": [
    {
     "name": "stdout",
     "output_type": "stream",
     "text": [
      "Accuracy of logistic regression classifier on test set: 0.73\n"
     ]
    }
   ],
   "source": [
    "print('Accuracy of logistic regression classifier on test set: {:.2f}'.format(lr.score(X_test, y_test)))"
   ]
  },
  {
   "cell_type": "code",
   "execution_count": 22,
   "metadata": {},
   "outputs": [
    {
     "data": {
      "text/plain": [
       "array([[36, 12],\n",
       "       [13, 33]], dtype=int64)"
      ]
     },
     "execution_count": 22,
     "metadata": {},
     "output_type": "execute_result"
    }
   ],
   "source": [
    "# import the metrics class\n",
    "from sklearn import metrics\n",
    "cnf_matrix = metrics.confusion_matrix(y_test, y_pred)\n",
    "cnf_matrix"
   ]
  },
  {
   "cell_type": "code",
   "execution_count": 23,
   "metadata": {},
   "outputs": [],
   "source": [
    "y_train_pred = lr.predict(X_train)"
   ]
  },
  {
   "cell_type": "code",
   "execution_count": 24,
   "metadata": {},
   "outputs": [
    {
     "data": {
      "text/plain": [
       "array([[154,  32],\n",
       "       [ 37, 151]], dtype=int64)"
      ]
     },
     "execution_count": 24,
     "metadata": {},
     "output_type": "execute_result"
    }
   ],
   "source": [
    "cnf_matrix_train = metrics.confusion_matrix(y_train, y_train_pred)\n",
    "cnf_matrix_train"
   ]
  },
  {
   "cell_type": "markdown",
   "metadata": {},
   "source": [
    "Tuning Hyperparameters\n",
    "Hyper-parameters are parameters that are not directly learnt within estimators. In scikit-learn they are passed as arguments to the constructor of the estimator classes"
   ]
  },
  {
   "cell_type": "code",
   "execution_count": 25,
   "metadata": {},
   "outputs": [],
   "source": [
    "lr_params = {'penalty':['l1', 'l2'],\n",
    "             'Cp np.logspace(0, 4, 10)}"
   ]
  },
  {
   "cell_type": "code",
   "execution_count": 26,
   "metadata": {},
   "outputs": [],
   "source": [
    "from sklearn.model_selection import GridSearchCV\n",
    "global best_params, best_score\n",
    "# Construct grid search object with 10 fold cross validation.\n",
    "grid = GridSearchCV(lr, lr_params, verbose = 0, cv = 10, scoring = 'accuracy', n_jobs = -1)\n",
    "# Fit using grid search.\n",
    "grid.fit(X_train, y_train)\n",
    "best_params, best_score = grid.best_params_, np.round(grid.best_score_*100, 2)"
   ]
  },
  {
   "cell_type": "code",
   "execution_count": 27,
   "metadata": {},
   "outputs": [
    {
     "name": "stdout",
     "output_type": "stream",
     "text": [
      "LR Best Score: 83.96\n",
      "And Best Parameters: {'C': 1.0, 'penalty': 'l1'}\n"
     ]
    }
   ],
   "source": [
    "print('LR Best Score:', best_score)\n",
    "print('And Best Parameters:', best_params)"
   ]
  },
  {
   "cell_type": "code",
   "execution_count": 28,
   "metadata": {},
   "outputs": [],
   "source": [
    "'''Instantiate the models with optimized hyperparameters.'''\n",
    "lr_optimized  = LogisticRegression(**best_params)"
   ]
  },
  {
   "cell_type": "code",
   "execution_count": 29,
   "metadata": {},
   "outputs": [],
   "source": [
    "lr_optimized.fit(X_train, y_train)\n",
    "train_accuracy_opt = lr_optimized.score(X_train, y_train)\n",
    "train_accuracy_opt = np.round(train_accuracy_opt*100, 2)"
   ]
  },
  {
   "cell_type": "code",
   "execution_count": 30,
   "metadata": {},
   "outputs": [
    {
     "data": {
      "text/plain": [
       "83.69"
      ]
     },
     "execution_count": 30,
     "metadata": {},
     "output_type": "execute_result"
    }
   ],
   "source": [
    "train_accuracy_opt"
   ]
  },
  {
   "cell_type": "code",
   "execution_count": 31,
   "metadata": {},
   "outputs": [],
   "source": [
    "y_pred_opt = lr_optimized.predict(X_test)"
   ]
  },
  {
   "cell_type": "code",
   "execution_count": 32,
   "metadata": {},
   "outputs": [
    {
     "data": {
      "text/plain": [
       "array([[39,  9],\n",
       "       [10, 36]], dtype=int64)"
      ]
     },
     "execution_count": 32,
     "metadata": {},
     "output_type": "execute_result"
    }
   ],
   "source": [
    "cnf_matrix_opt = metrics.confusion_matrix(y_test, y_pred_opt)\n",
    "cnf_matrix_opt"
   ]
  },
  {
   "cell_type": "code",
   "execution_count": 33,
   "metadata": {},
   "outputs": [
    {
     "name": "stdout",
     "output_type": "stream",
     "text": [
      "Accuracy of logistic regression classifier on test set: 0.80\n"
     ]
    }
   ],
   "source": [
    "print('Accuracy of logistic regression classifier on test set: {:.2f}'.format(lr_optimized.score(X_test, y_test)))"
   ]
  },
  {
   "cell_type": "code",
   "execution_count": 34,
   "metadata": {},
   "outputs": [],
   "source": [
    "y_train_pred_opt = lr_optimized.predict(X_train)"
   ]
  },
  {
   "cell_type": "code",
   "execution_count": 35,
   "metadata": {},
   "outputs": [
    {
     "data": {
      "text/plain": [
       "array([[166,  20],\n",
       "       [ 41, 147]], dtype=int64)"
      ]
     },
     "execution_count": 35,
     "metadata": {},
     "output_type": "execute_result"
    }
   ],
   "source": [
    "cnf_matrix_train_opt = metrics.confusion_matrix(y_train, y_train_pred_opt)\n",
    "cnf_matrix_train_opt"
   ]
  },
  {
   "cell_type": "code",
   "execution_count": 43,
   "metadata": {},
   "outputs": [],
   "source": [
    "f'''Function to plot ROC curve with AUC score.'''\n",
    "def plot_roc_and_auc_score(model, title):\n",
    "    from sklearn.metrics import roc_curve, roc_auc_score\n",
    "    probablity = model.predict_proba(X_train)[:, 1]\n",
    "    plt.figure(figsize = (18, 5))\n",
    "    false_positive_rate, true_positive_rate, threshold = roc_curve(y_train, probablity)\n",
    "    auc_score = roc_auc_score(y_train, probablity)\n",
    "    plt.plot(false_positive_rate, true_positive_rate, label = \"ROC CURVE, AREA = \"+ str(auc_score))\n",
    "    plt.plot([0, 1], [0, 1], 'red', lw = 3.7)\n",
    "    plt.xlabel('False Positive Rate (1-Specificity)')\n",
    "    plt.ylabel('True Positive Rate (Sensitivity)')\n",
    "    plt.axis([0, 1, 0, 1])\n",
    "    plt.legend(loc = 4)\n",
    "    plt.title(title)\n",
    "    plt.show()"
   ]
  },
  {
   "cell_type": "code",
   "execution_count": 47,
   "metadata": {},
   "outputs": [
    {
     "data": {
      "image/png": "[encoded data removed]",
      "text/plain": [
       "<Figure size 1296x360 with 1 Axes>"
      ]
     },
     "metadata": {},
     "output_type": "display_data"
    }
   ],
   "source": [
    "plot_roc_and_auc_score(lr, title = 'RF ROC Curve with AUC Score')"
   ]
  },
  {
   "cell_type": "code",
   "execution_count": 44,
   "metadata": {},
   "outputs": [
    {
     "data": {
      "image/png": "[encoded data removed]",
      "text/plain": [
       "<Figure size 1296x360 with 1 Axes>"
      ]
     },
     "metadata": {},
     "output_type": "display_data"
    }
   ],
   "source": [
    "plot_roc_and_auc_score(lr_optimized, title = 'RF ROC Curve with AUC Score')"
   ]
  },
  {
   "cell_type": "code",
   "execution_count": 45,
   "metadata": {},
   "outputs": [],
   "source": [
    "f'''Function to plot ROC curve with AUC score.'''\n",
    "def plot_roc_and_auc_score_test(model, title):\n",
    "    from sklearn.metrics import roc_curve, roc_auc_score\n",
    "    probablity = model.predict_proba(X_test)[:, 1]\n",
    "    plt.figure(figsize = (18, 5))\n",
    "    false_positive_rate, true_positive_rate, threshold = roc_curve(y_test, probablity)\n",
    "    auc_score = roc_auc_score(y_test, probablity)\n",
    "    plt.plot(false_positive_rate, true_positive_rate, label = \"ROC CURVE, AREA = \"+ str(auc_score))\n",
    "    plt.plot([0, 1], [0, 1], 'red', lw = 3.7)\n",
    "    plt.xlabel('False Positive Rate (1-Specificity)')\n",
    "    plt.ylabel('True Positive Rate (Sensitivity)')\n",
    "    plt.axis([0, 1, 0, 1])\n",
    "    plt.legend(loc = 4)\n",
    "    plt.title(title)\n",
    "    plt.show()"
   ]
  },
  {
   "cell_type": "code",
   "execution_count": 46,
   "metadata": {},
   "outputs": [
    {
     "data": {
      "image/png": "[encoded data removed]",
      "text/plain": [
       "<Figure size 1296x360 with 1 Axes>"
      ]
     },
     "metadata": {},
     "output_type": "display_data"
    }
   ],
   "source": [
    "plot_roc_and_auc_score_test(lr_optimized, title = 'RF ROC Curve with AUC Score')"
   ]
  },
  {
   "cell_type": "code",
   "execution_count": 48,
   "metadata": {},
   "outputs": [
    {
     "data": {
      "image/png": "[encoded data removed]",
      "text/plain": [
       "<Figure size 1296x360 with 1 Axes>"
      ]
     },
     "metadata": {},
     "output_type": "display_data"
    }
   ],
   "source": [
    "plot_roc_and_auc_score_test(lr, title = 'RF ROC Curve with AUC Score')"
   ]
  },
  {
   "cell_type": "code",
   "execution_count": null,
   "metadata": {},
   "outputs": [],
   "source": []
  }
 ],
 "metadata": {
  "kernelspec": {
   "display_name": "Python 3",
   "language": "python",
   "name": "python3"
  },
  "language_info": {
   "codemirror_mode": {
    "name": "ipython",
    "version": 3
   },
   "file_extension": ".py",
   "mimetype": "text/x-python",
   "name": "python",
   "nbconvert_exporter": "python",
   "pygments_lexer": "ipython3",
   "version": "3.6.5"
  }
 },
 "nbformat": 4,
 "nbformat_minor": 2
}
